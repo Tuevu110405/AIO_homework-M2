{
  "nbformat": 4,
  "nbformat_minor": 0,
  "metadata": {
    "colab": {
      "provenance": [],
      "authorship_tag": "ABX9TyNf4LfnFOphJL+LpaTuFzpl",
      "include_colab_link": true
    },
    "kernelspec": {
      "name": "python3",
      "display_name": "Python 3"
    },
    "language_info": {
      "name": "python"
    }
  },
  "cells": [
    {
      "cell_type": "markdown",
      "metadata": {
        "id": "view-in-github",
        "colab_type": "text"
      },
      "source": [
        "<a href=\"https://colab.research.google.com/github/Tuevu110405/AIO_homework-M2/blob/colab/Vector_exercise.ipynb\" target=\"_parent\"><img src=\"https://colab.research.google.com/assets/colab-badge.svg\" alt=\"Open In Colab\"/></a>"
      ]
    },
    {
      "cell_type": "code",
      "execution_count": null,
      "metadata": {
        "id": "qjHe_DuvNq9R"
      },
      "outputs": [],
      "source": [
        "import numpy as np\n",
        "\n",
        "def compute_vector_length(vector):\n",
        "    len_of_vector =  np.sqrt(np.sum(vector**2))\n",
        "    return len_of_vector\n",
        "\n"
      ]
    },
    {
      "cell_type": "code",
      "source": [
        "def compute_dot_product(vector1, vector2):\n",
        "    dot_product = np.sum(np.dot(vector1, vector2))\n",
        "    return dot_product"
      ],
      "metadata": {
        "id": "0_KSDv4rhSml"
      },
      "execution_count": null,
      "outputs": []
    },
    {
      "cell_type": "code",
      "source": [
        "def matrix_multi_vector(matrix, vector):\n",
        "    if  len(matrix[0]) != len(vector):\n",
        "      print(\"This multiplication is not possible\")\n",
        "    else:\n",
        "      result = matrix @ vector\n",
        "      return result"
      ],
      "metadata": {
        "id": "VTgZ9rz2ivG9"
      },
      "execution_count": null,
      "outputs": []
    },
    {
      "cell_type": "code",
      "source": [
        "def matrix_multi_matrix(matrix1, matrix2):\n",
        "    if len(matrix1[0]) != len(matrix2):\n",
        "      print(\"This multiplication is not possible\")\n",
        "    else:\n",
        "      result = matrix1 @ matrix2\n",
        "      return result"
      ],
      "metadata": {
        "id": "SsMEhg_9mYGT"
      },
      "execution_count": null,
      "outputs": []
    },
    {
      "cell_type": "markdown",
      "source": [
        "# 1.5 Matrix inverse\n",
        "det(A) = ad - bc = (-2)*(-4) - (6*8) = -40  \n",
        "det(A) != 0  \n",
        "=> det(A) = 1/-40*[[-4,-6],[-8,-2]]  \n",
        "det(A) = [[0.1,0.15],[0.2,0.05]]\n"
      ],
      "metadata": {
        "id": "BJF1NdlqSTbF"
      }
    },
    {
      "cell_type": "markdown",
      "source": [
        "A- lambda * I  =\n"
      ],
      "metadata": {
        "id": "Hr2uHhAWaMOo"
      }
    },
    {
      "cell_type": "code",
      "source": [
        "def inverse_matrix(matrix):\n",
        "    if np.linalg.det(matrix) == 0:\n",
        "        print(\"Matrix is not invertible\")\n",
        "    else:\n",
        "        inverse_matrix = np.linalg.inv(matrix)\n",
        "        return inverse_matrix\n"
      ],
      "metadata": {
        "id": "ggKrKiozUx8z"
      },
      "execution_count": null,
      "outputs": []
    },
    {
      "cell_type": "markdown",
      "source": [
        "# 2.1 Eigenvector and eigenvalue  \n",
        "A- lambda * I = [[0.9-lambda, 0.2], [0.1, 0.8 - lambda]]\n",
        "det(A-lambda*I) =0\n",
        "=> lambda = 1 or lambda = 0.7  \n",
        "(A-lambda*I) * v = 0  \n",
        "lambda = 1 => v = (t;2t)=> normalize vector:v=(sqrt(5)/5;2*sqrt(5)/5)  \n",
        "lambda = 0.7 => v = (t;-t)=> nỏmalize vector: v =(sqrt(2)/2;-sqrt(2)/2)\n"
      ],
      "metadata": {
        "id": "qwXUP06nBwlG"
      }
    },
    {
      "cell_type": "code",
      "source": [
        "def compute_eigenvalues_eigenvectors(matrix):\n",
        "    eigenvalues, eigenvectors = np.linalg.eig(matrix)\n",
        "    return eigenvalues, eigenvectors"
      ],
      "metadata": {
        "id": "KY4glgXNSC9o"
      },
      "execution_count": null,
      "outputs": []
    },
    {
      "cell_type": "code",
      "source": [
        "A = np.array([[0.9,0.2],[0.1,0.8]])\n",
        "eigenvalues, eigenvectors = compute_eigenvalues_eigenvectors(A)\n",
        "print(eigenvalues)\n",
        "print(eigenvectors)"
      ],
      "metadata": {
        "id": "W6_7TDexSAVk",
        "colab": {
          "base_uri": "https://localhost:8080/"
        },
        "outputId": "629ac928-4110-4b00-fb33-8566ea713014"
      },
      "execution_count": null,
      "outputs": [
        {
          "output_type": "stream",
          "name": "stdout",
          "text": [
            "[1.  0.7]\n",
            "[[ 0.89442719 -0.70710678]\n",
            " [ 0.4472136   0.70710678]]\n"
          ]
        }
      ]
    },
    {
      "cell_type": "code",
      "source": [
        "def compute_cosine(v1, v2):\n",
        "    cos = np.dot(v1, v2) / (compute_vector_length(v1) * compute_vector_length(v2))\n",
        "    return cos"
      ],
      "metadata": {
        "id": "577yZuxNiNXM"
      },
      "execution_count": null,
      "outputs": []
    },
    {
      "cell_type": "code",
      "source": [
        "from google.colab.patches import cv2_imshow\n",
        "import cv2\n",
        "\n",
        "def compute_difference(bg_img, input_img):\n",
        "    bg_img = cv2.cvtColor(bg_img, cv2.COLOR_BGR2GRAY)\n",
        "    input_img = cv2.cvtColor(input_img, cv2.COLOR_BGR2GRAY)\n",
        "    difference = cv2.absdiff(bg_img, input_img)\n",
        "    return difference\n"
      ],
      "metadata": {
        "id": "DVUnh7R7hiaT"
      },
      "execution_count": null,
      "outputs": []
    },
    {
      "cell_type": "code",
      "source": [
        "def compute_binary_mask(difference):\n",
        "    _, binary_mask = cv2.threshold(difference, 20, 255, cv2.THRESH_BINARY)\n",
        "    return binary_mask"
      ],
      "metadata": {
        "id": "JugrneHylCV0"
      },
      "execution_count": null,
      "outputs": []
    },
    {
      "cell_type": "code",
      "source": [
        "def replace_background(bg1_image, bg2_image, ob_image):\n",
        "    difference_single_channel = compute_difference(bg1_image, ob_image)\n",
        "    binary_mask = compute_binary_mask(difference_single_channel)\n",
        "    output = np.where(binary_mask == 255, bg2_image, ob_image)\n",
        "    return output"
      ],
      "metadata": {
        "id": "JmSOEWc9ntQZ"
      },
      "execution_count": null,
      "outputs": []
    },
    {
      "cell_type": "markdown",
      "source": [
        "# Bài tập trắc nghiệm"
      ],
      "metadata": {
        "id": "VQF9hPkqNGhu"
      }
    },
    {
      "cell_type": "code",
      "source": [
        "vector = np. array ([ -2 , 4 , 9 , 21])\n",
        "result = compute_vector_length (vector)\n",
        "print ( round (result ,2) )"
      ],
      "metadata": {
        "colab": {
          "base_uri": "https://localhost:8080/"
        },
        "id": "vxDD-0iIMjGB",
        "outputId": "d29abf71-8423-41c9-b711-b7b9ba4a894b"
      },
      "execution_count": null,
      "outputs": [
        {
          "output_type": "stream",
          "name": "stdout",
          "text": [
            "23.28\n"
          ]
        }
      ]
    },
    {
      "cell_type": "code",
      "source": [
        "v1 = np. array ([0 , 1 , -1 , 2])\n",
        "v2 = np. array ([2 , 5 , 1 , 0])\n",
        "result = compute_dot_product (v1 , v2)\n",
        "print ( round (result ,2) )"
      ],
      "metadata": {
        "colab": {
          "base_uri": "https://localhost:8080/"
        },
        "id": "L-c76LTYNFK8",
        "outputId": "3fba3f0d-3b78-4f1a-8a3b-e296721427ac"
      },
      "execution_count": null,
      "outputs": [
        {
          "output_type": "stream",
          "name": "stdout",
          "text": [
            "4\n"
          ]
        }
      ]
    },
    {
      "cell_type": "code",
      "source": [
        "x = np. array ([[1 , 2] ,\n",
        "[3 , 4]])\n",
        "k = np. array ([1 , 2])\n",
        "print ('result \\n', x.dot (k) )"
      ],
      "metadata": {
        "colab": {
          "base_uri": "https://localhost:8080/"
        },
        "id": "nZWdV1CQOT2r",
        "outputId": "1695579a-58d5-48ac-fe68-29bf470cb373"
      },
      "execution_count": null,
      "outputs": [
        {
          "output_type": "stream",
          "name": "stdout",
          "text": [
            "result \n",
            " [ 5 11]\n"
          ]
        }
      ]
    },
    {
      "cell_type": "code",
      "source": [
        "x = np. array ([[ -1 , 2] ,\n",
        "[3 , -4]])\n",
        "k = np. array ([1 , 2])\n",
        "print ('result \\n', x@k )"
      ],
      "metadata": {
        "colab": {
          "base_uri": "https://localhost:8080/"
        },
        "id": "FMIrkww7PPKp",
        "outputId": "4a9c1d27-2e27-41a4-8a60-fbb7260679bd"
      },
      "execution_count": null,
      "outputs": [
        {
          "output_type": "stream",
          "name": "stdout",
          "text": [
            "result \n",
            " [ 3 -5]\n"
          ]
        }
      ]
    },
    {
      "cell_type": "code",
      "source": [
        "m = np. array ([[ -1 , 1 , 1] , [0 , -4 , 9]])\n",
        "v = np. array ([0 , 2 , 1])\n",
        "result = matrix_multi_vector (m, v)\n",
        "print ( result )"
      ],
      "metadata": {
        "colab": {
          "base_uri": "https://localhost:8080/"
        },
        "id": "HYWLn9eNQCGK",
        "outputId": "2507e6e2-f423-4961-ac1f-85c780f12e66"
      },
      "execution_count": null,
      "outputs": [
        {
          "output_type": "stream",
          "name": "stdout",
          "text": [
            "[3 1]\n"
          ]
        }
      ]
    },
    {
      "cell_type": "code",
      "source": [
        "m1 = np. array ([[0 , 1 , 2] , [2 , -3 , 1]])\n",
        "m2 = np. array ([[1 , -3] ,[6 , 1] , [0 , -1]])\n",
        "result = matrix_multi_matrix (m1 , m2)\n",
        "print ( result )"
      ],
      "metadata": {
        "colab": {
          "base_uri": "https://localhost:8080/"
        },
        "id": "R_1M3JDwQJbe",
        "outputId": "c08af86a-c9ae-4633-ceba-6f3d8915227d"
      },
      "execution_count": null,
      "outputs": [
        {
          "output_type": "stream",
          "name": "stdout",
          "text": [
            "[[  6  -1]\n",
            " [-16 -10]]\n"
          ]
        }
      ]
    },
    {
      "cell_type": "code",
      "source": [
        "m1 = np.eye(3)\n",
        "m2 = np. array ([[1 , 1 , 1] ,[2 , 2 , 2] , [3 , 3 , 3]])\n",
        "result = m1@m2\n",
        "print ( result )\n"
      ],
      "metadata": {
        "colab": {
          "base_uri": "https://localhost:8080/"
        },
        "id": "U0N4z-ahQ_C2",
        "outputId": "5350b1cd-ea86-4fce-b72f-cfa553463f46"
      },
      "execution_count": null,
      "outputs": [
        {
          "output_type": "stream",
          "name": "stdout",
          "text": [
            "[[1. 1. 1.]\n",
            " [2. 2. 2.]\n",
            " [3. 3. 3.]]\n"
          ]
        }
      ]
    },
    {
      "cell_type": "code",
      "source": [
        "m1 = np.eye (2)\n",
        "m1 = np. reshape (m1 ,( -1 ,4) ) [0]\n",
        "m2 = np. array ([[1 , 1 , 1 , 1] ,[2 , 2 , 2 , 2] , [3 , 3 , 3 , 3] , [4 , 4 , 4 , 4]])\n",
        "result = m1@m2\n",
        "print ( result )"
      ],
      "metadata": {
        "colab": {
          "base_uri": "https://localhost:8080/"
        },
        "id": "BKcF2nELTSNT",
        "outputId": "e72faf48-0b9b-4593-f3da-824b4167db16"
      },
      "execution_count": null,
      "outputs": [
        {
          "output_type": "stream",
          "name": "stdout",
          "text": [
            "[5. 5. 5. 5.]\n"
          ]
        }
      ]
    },
    {
      "cell_type": "code",
      "source": [
        "m1 = np. array ([[1 , 2] , [3 , 4]])\n",
        "m1 = np. reshape (m1 ,( -1 ,4) , \"F\") [0]\n",
        "m2 = np. array ([[1 , 1 , 1 , 1] ,[2 , 2 , 2 , 2] , [3 , 3 , 3 , 3] , [4 , 4 , 4 , 4]])\n",
        "result = m1@m2\n",
        "print ( result )"
      ],
      "metadata": {
        "colab": {
          "base_uri": "https://localhost:8080/"
        },
        "id": "yAjE-hoPUQ--",
        "outputId": "7b283589-5c81-4ea8-a503-65d81a15fee5"
      },
      "execution_count": null,
      "outputs": [
        {
          "output_type": "stream",
          "name": "stdout",
          "text": [
            "[29 29 29 29]\n"
          ]
        }
      ]
    },
    {
      "cell_type": "code",
      "source": [
        "m1 = np. array ([[ -2 , 6] , [8 , -4]])\n",
        "result = inverse_matrix (m1)\n",
        "print ( result )"
      ],
      "metadata": {
        "colab": {
          "base_uri": "https://localhost:8080/"
        },
        "id": "62D8zUU2UfT4",
        "outputId": "aa0c01e1-da19-41d6-e22b-37ca1be82868"
      },
      "execution_count": null,
      "outputs": [
        {
          "output_type": "stream",
          "name": "stdout",
          "text": [
            "[[0.1  0.15]\n",
            " [0.2  0.05]]\n"
          ]
        }
      ]
    },
    {
      "cell_type": "code",
      "source": [
        "matrix = np. array ([[0.9 , 0.2] , [0.1 , 0.8]])\n",
        "eigenvalues , eigenvectors = compute_eigenvalues_eigenvectors ( matrix )\n",
        "print ( eigenvectors )"
      ],
      "metadata": {
        "colab": {
          "base_uri": "https://localhost:8080/"
        },
        "id": "VkwEiz4YX8PE",
        "outputId": "b32e8a4b-aa6c-4629-c78c-4de4a35e9ed9"
      },
      "execution_count": null,
      "outputs": [
        {
          "output_type": "stream",
          "name": "stdout",
          "text": [
            "[[ 0.89442719 -0.70710678]\n",
            " [ 0.4472136   0.70710678]]\n"
          ]
        }
      ]
    },
    {
      "cell_type": "code",
      "source": [
        "x = np. array ([1 , 2 , 3 , 4])\n",
        "y = np. array ([1 , 0 , 3 , 0])\n",
        "result = compute_cosine (x,y)\n",
        "print ( round (result , 3) )"
      ],
      "metadata": {
        "colab": {
          "base_uri": "https://localhost:8080/"
        },
        "id": "wq5Sk3p1YjNQ",
        "outputId": "e5dac960-acbf-42d1-95d8-a4b5e4ac0879"
      },
      "execution_count": null,
      "outputs": [
        {
          "output_type": "stream",
          "name": "stdout",
          "text": [
            "0.577\n"
          ]
        }
      ]
    }
  ]
}