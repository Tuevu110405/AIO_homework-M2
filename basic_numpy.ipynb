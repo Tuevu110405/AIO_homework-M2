{
  "nbformat": 4,
  "nbformat_minor": 0,
  "metadata": {
    "colab": {
      "provenance": [],
      "authorship_tag": "ABX9TyPteo9s/ZFcUQiLRN5M2GjT",
      "include_colab_link": true
    },
    "kernelspec": {
      "name": "python3",
      "display_name": "Python 3"
    },
    "language_info": {
      "name": "python"
    }
  },
  "cells": [
    {
      "cell_type": "markdown",
      "metadata": {
        "id": "view-in-github",
        "colab_type": "text"
      },
      "source": [
        "<a href=\"https://colab.research.google.com/github/Tuevu110405/AIO_homework-M2-w1/blob/colab/basic_numpy.ipynb\" target=\"_parent\"><img src=\"https://colab.research.google.com/assets/colab-badge.svg\" alt=\"Open In Colab\"/></a>"
      ]
    },
    {
      "cell_type": "code",
      "execution_count": null,
      "metadata": {
        "colab": {
          "base_uri": "https://localhost:8080/"
        },
        "id": "Qmo134pbiXgV",
        "outputId": "418dc5ae-33c8-4597-8216-7a3de2c01fcc"
      },
      "outputs": [
        {
          "output_type": "stream",
          "name": "stdout",
          "text": [
            "Downloading...\n",
            "From: https://drive.google.com/uc?id=1i9dqan21DjQoG5Q_VEvm0LrVwAlXD0vB\n",
            "To: /content/dog.jpeg\n",
            "\r  0% 0.00/33.7k [00:00<?, ?B/s]\r100% 33.7k/33.7k [00:00<00:00, 43.2MB/s]\n"
          ]
        }
      ],
      "source": [
        "!gdown 1i9dqan21DjQoG5Q_VEvm0LrVwAlXD0vB"
      ]
    },
    {
      "cell_type": "code",
      "source": [
        "import numpy as np"
      ],
      "metadata": {
        "id": "68SjVBXdmcOu"
      },
      "execution_count": null,
      "outputs": []
    },
    {
      "cell_type": "code",
      "source": [
        "import matplotlib.image as mpimg\n",
        "img = mpimg.imread('/content/dog.jpeg')\n",
        "gray_img_01 = (np.max(img, axis=2)+np.min(img, axis=2))/2\n",
        "gray_img_02 = np.sum(img, axis=2)/3\n",
        "gray_img_03 = img[:,:,0]*0.21 + img[:,:,1]*0.72 + img[:,:,2]*0.07\n",
        "print(gray_img_01[0,0])\n",
        "print(gray_img_02[0,0])\n",
        "\n",
        "print(gray_img_03[0,0])"
      ],
      "metadata": {
        "colab": {
          "base_uri": "https://localhost:8080/"
        },
        "id": "2YaK_sXHi3Jp",
        "outputId": "bf206113-2667-4dd8-991b-3d7934f198b6"
      },
      "execution_count": null,
      "outputs": [
        {
          "output_type": "stream",
          "name": "stdout",
          "text": [
            "102.5\n",
            "107.66666666666667\n",
            "126.22999999999999\n"
          ]
        }
      ]
    },
    {
      "cell_type": "code",
      "source": [
        "!gdown 1iA0WmVfW88HyJvTBSQDI5vesf-pgKabq"
      ],
      "metadata": {
        "colab": {
          "base_uri": "https://localhost:8080/"
        },
        "id": "V6AC98Dzwrsl",
        "outputId": "db0f6bd1-aae5-4c81-df39-9a0a98a01969"
      },
      "execution_count": null,
      "outputs": [
        {
          "output_type": "stream",
          "name": "stdout",
          "text": [
            "Downloading...\n",
            "From: https://drive.google.com/uc?id=1iA0WmVfW88HyJvTBSQDI5vesf-pgKabq\n",
            "To: /content/advertising.csv\n",
            "\r  0% 0.00/4.06k [00:00<?, ?B/s]\r100% 4.06k/4.06k [00:00<00:00, 11.2MB/s]\n"
          ]
        }
      ]
    },
    {
      "cell_type": "code",
      "source": [
        "import pandas as pd\n",
        "df = pd.read_csv('/content/advertising.csv')\n",
        "data = df.to_numpy()"
      ],
      "metadata": {
        "id": "xXE0Iss-w6xB"
      },
      "execution_count": null,
      "outputs": []
    },
    {
      "cell_type": "code",
      "source": [
        "print(data)"
      ],
      "metadata": {
        "colab": {
          "base_uri": "https://localhost:8080/"
        },
        "id": "_2_D443ExMQe",
        "outputId": "5bc2b25e-fd5e-40cf-be7e-f0fc1d8e1da5"
      },
      "execution_count": null,
      "outputs": [
        {
          "output_type": "stream",
          "name": "stdout",
          "text": [
            "[[230.1  37.8  69.2  22.1]\n",
            " [ 44.5  39.3  45.1  10.4]\n",
            " [ 17.2  45.9  69.3  12. ]\n",
            " [151.5  41.3  58.5  16.5]\n",
            " [180.8  10.8  58.4  17.9]\n",
            " [  8.7  48.9  75.    7.2]\n",
            " [ 57.5  32.8  23.5  11.8]\n",
            " [120.2  19.6  11.6  13.2]\n",
            " [  8.6   2.1   1.    4.8]\n",
            " [199.8   2.6  21.2  15.6]\n",
            " [ 66.1   5.8  24.2  12.6]\n",
            " [214.7  24.    4.   17.4]\n",
            " [ 23.8  35.1  65.9   9.2]\n",
            " [ 97.5   7.6   7.2  13.7]\n",
            " [204.1  32.9  46.   19. ]\n",
            " [195.4  47.7  52.9  22.4]\n",
            " [ 67.8  36.6 114.   12.5]\n",
            " [281.4  39.6  55.8  24.4]\n",
            " [ 69.2  20.5  18.3  11.3]\n",
            " [147.3  23.9  19.1  14.6]\n",
            " [218.4  27.7  53.4  18. ]\n",
            " [237.4   5.1  23.5  17.5]\n",
            " [ 13.2  15.9  49.6   5.6]\n",
            " [228.3  16.9  26.2  20.5]\n",
            " [ 62.3  12.6  18.3   9.7]\n",
            " [262.9   3.5  19.5  17. ]\n",
            " [142.9  29.3  12.6  15. ]\n",
            " [240.1  16.7  22.9  20.9]\n",
            " [248.8  27.1  22.9  18.9]\n",
            " [ 70.6  16.   40.8  10.5]\n",
            " [292.9  28.3  43.2  21.4]\n",
            " [112.9  17.4  38.6  11.9]\n",
            " [ 97.2   1.5  30.   13.2]\n",
            " [265.6  20.    0.3  17.4]\n",
            " [ 95.7   1.4   7.4  11.9]\n",
            " [290.7   4.1   8.5  17.8]\n",
            " [266.9  43.8   5.   25.4]\n",
            " [ 74.7  49.4  45.7  14.7]\n",
            " [ 43.1  26.7  35.1  10.1]\n",
            " [228.   37.7  32.   21.5]\n",
            " [202.5  22.3  31.6  16.6]\n",
            " [177.   33.4  38.7  17.1]\n",
            " [293.6  27.7   1.8  20.7]\n",
            " [206.9   8.4  26.4  17.9]\n",
            " [ 25.1  25.7  43.3   8.5]\n",
            " [175.1  22.5  31.5  16.1]\n",
            " [ 89.7   9.9  35.7  10.6]\n",
            " [239.9  41.5  18.5  23.2]\n",
            " [227.2  15.8  49.9  19.8]\n",
            " [ 66.9  11.7  36.8   9.7]\n",
            " [199.8   3.1  34.6  16.4]\n",
            " [100.4   9.6   3.6  10.7]\n",
            " [216.4  41.7  39.6  22.6]\n",
            " [182.6  46.2  58.7  21.2]\n",
            " [262.7  28.8  15.9  20.2]\n",
            " [198.9  49.4  60.   23.7]\n",
            " [  7.3  28.1  41.4   5.5]\n",
            " [136.2  19.2  16.6  13.2]\n",
            " [210.8  49.6  37.7  23.8]\n",
            " [210.7  29.5   9.3  18.4]\n",
            " [ 53.5   2.   21.4   8.1]\n",
            " [261.3  42.7  54.7  24.2]\n",
            " [239.3  15.5  27.3  20.7]\n",
            " [102.7  29.6   8.4  14. ]\n",
            " [131.1  42.8  28.9  16. ]\n",
            " [ 69.    9.3   0.9  11.3]\n",
            " [ 31.5  24.6   2.2  11. ]\n",
            " [139.3  14.5  10.2  13.4]\n",
            " [237.4  27.5  11.   18.9]\n",
            " [216.8  43.9  27.2  22.3]\n",
            " [199.1  30.6  38.7  18.3]\n",
            " [109.8  14.3  31.7  12.4]\n",
            " [ 26.8  33.   19.3   8.8]\n",
            " [129.4   5.7  31.3  11. ]\n",
            " [213.4  24.6  13.1  17. ]\n",
            " [ 16.9  43.7  89.4   8.7]\n",
            " [ 27.5   1.6  20.7   6.9]\n",
            " [120.5  28.5  14.2  14.2]\n",
            " [  5.4  29.9   9.4   5.3]\n",
            " [116.    7.7  23.1  11. ]\n",
            " [ 76.4  26.7  22.3  11.8]\n",
            " [239.8   4.1  36.9  17.3]\n",
            " [ 75.3  20.3  32.5  11.3]\n",
            " [ 68.4  44.5  35.6  13.6]\n",
            " [213.5  43.   33.8  21.7]\n",
            " [193.2  18.4  65.7  20.2]\n",
            " [ 76.3  27.5  16.   12. ]\n",
            " [110.7  40.6  63.2  16. ]\n",
            " [ 88.3  25.5  73.4  12.9]\n",
            " [109.8  47.8  51.4  16.7]\n",
            " [134.3   4.9   9.3  14. ]\n",
            " [ 28.6   1.5  33.    7.3]\n",
            " [217.7  33.5  59.   19.4]\n",
            " [250.9  36.5  72.3  22.2]\n",
            " [107.4  14.   10.9  11.5]\n",
            " [163.3  31.6  52.9  16.9]\n",
            " [197.6   3.5   5.9  16.7]\n",
            " [184.9  21.   22.   20.5]\n",
            " [289.7  42.3  51.2  25.4]\n",
            " [135.2  41.7  45.9  17.2]\n",
            " [222.4   4.3  49.8  16.7]\n",
            " [296.4  36.3 100.9  23.8]\n",
            " [280.2  10.1  21.4  19.8]\n",
            " [187.9  17.2  17.9  19.7]\n",
            " [238.2  34.3   5.3  20.7]\n",
            " [137.9  46.4  59.   15. ]\n",
            " [ 25.   11.   29.7   7.2]\n",
            " [ 90.4   0.3  23.2  12. ]\n",
            " [ 13.1   0.4  25.6   5.3]\n",
            " [255.4  26.9   5.5  19.8]\n",
            " [225.8   8.2  56.5  18.4]\n",
            " [241.7  38.   23.2  21.8]\n",
            " [175.7  15.4   2.4  17.1]\n",
            " [209.6  20.6  10.7  20.9]\n",
            " [ 78.2  46.8  34.5  14.6]\n",
            " [ 75.1  35.   52.7  12.6]\n",
            " [139.2  14.3  25.6  12.2]\n",
            " [ 76.4   0.8  14.8   9.4]\n",
            " [125.7  36.9  79.2  15.9]\n",
            " [ 19.4  16.   22.3   6.6]\n",
            " [141.3  26.8  46.2  15.5]\n",
            " [ 18.8  21.7  50.4   7. ]\n",
            " [224.    2.4  15.6  16.6]\n",
            " [123.1  34.6  12.4  15.2]\n",
            " [229.5  32.3  74.2  19.7]\n",
            " [ 87.2  11.8  25.9  10.6]\n",
            " [  7.8  38.9  50.6   6.6]\n",
            " [ 80.2   0.    9.2  11.9]\n",
            " [220.3  49.    3.2  24.7]\n",
            " [ 59.6  12.   43.1   9.7]\n",
            " [  0.7  39.6   8.7   1.6]\n",
            " [265.2   2.9  43.   17.7]\n",
            " [  8.4  27.2   2.1   5.7]\n",
            " [219.8  33.5  45.1  19.6]\n",
            " [ 36.9  38.6  65.6  10.8]\n",
            " [ 48.3  47.    8.5  11.6]\n",
            " [ 25.6  39.    9.3   9.5]\n",
            " [273.7  28.9  59.7  20.8]\n",
            " [ 43.   25.9  20.5   9.6]\n",
            " [184.9  43.9   1.7  20.7]\n",
            " [ 73.4  17.   12.9  10.9]\n",
            " [193.7  35.4  75.6  19.2]\n",
            " [220.5  33.2  37.9  20.1]\n",
            " [104.6   5.7  34.4  10.4]\n",
            " [ 96.2  14.8  38.9  12.3]\n",
            " [140.3   1.9   9.   10.3]\n",
            " [240.1   7.3   8.7  18.2]\n",
            " [243.2  49.   44.3  25.4]\n",
            " [ 38.   40.3  11.9  10.9]\n",
            " [ 44.7  25.8  20.6  10.1]\n",
            " [280.7  13.9  37.   16.1]\n",
            " [121.    8.4  48.7  11.6]\n",
            " [197.6  23.3  14.2  16.6]\n",
            " [171.3  39.7  37.7  16. ]\n",
            " [187.8  21.1   9.5  20.6]\n",
            " [  4.1  11.6   5.7   3.2]\n",
            " [ 93.9  43.5  50.5  15.3]\n",
            " [149.8   1.3  24.3  10.1]\n",
            " [ 11.7  36.9  45.2   7.3]\n",
            " [131.7  18.4  34.6  12.9]\n",
            " [172.5  18.1  30.7  16.4]\n",
            " [ 85.7  35.8  49.3  13.3]\n",
            " [188.4  18.1  25.6  19.9]\n",
            " [163.5  36.8   7.4  18. ]\n",
            " [117.2  14.7   5.4  11.9]\n",
            " [234.5   3.4  84.8  16.9]\n",
            " [ 17.9  37.6  21.6   8. ]\n",
            " [206.8   5.2  19.4  17.2]\n",
            " [215.4  23.6  57.6  17.1]\n",
            " [284.3  10.6   6.4  20. ]\n",
            " [ 50.   11.6  18.4   8.4]\n",
            " [164.5  20.9  47.4  17.5]\n",
            " [ 19.6  20.1  17.    7.6]\n",
            " [168.4   7.1  12.8  16.7]\n",
            " [222.4   3.4  13.1  16.5]\n",
            " [276.9  48.9  41.8  27. ]\n",
            " [248.4  30.2  20.3  20.2]\n",
            " [170.2   7.8  35.2  16.7]\n",
            " [276.7   2.3  23.7  16.8]\n",
            " [165.6  10.   17.6  17.6]\n",
            " [156.6   2.6   8.3  15.5]\n",
            " [218.5   5.4  27.4  17.2]\n",
            " [ 56.2   5.7  29.7   8.7]\n",
            " [287.6  43.   71.8  26.2]\n",
            " [253.8  21.3  30.   17.6]\n",
            " [205.   45.1  19.6  22.6]\n",
            " [139.5   2.1  26.6  10.3]\n",
            " [191.1  28.7  18.2  17.3]\n",
            " [286.   13.9   3.7  20.9]\n",
            " [ 18.7  12.1  23.4   6.7]\n",
            " [ 39.5  41.1   5.8  10.8]\n",
            " [ 75.5  10.8   6.   11.9]\n",
            " [ 17.2   4.1  31.6   5.9]\n",
            " [166.8  42.    3.6  19.6]\n",
            " [149.7  35.6   6.   17.3]\n",
            " [ 38.2   3.7  13.8   7.6]\n",
            " [ 94.2   4.9   8.1  14. ]\n",
            " [177.    9.3   6.4  14.8]\n",
            " [283.6  42.   66.2  25.5]\n",
            " [232.1   8.6   8.7  18.4]]\n"
          ]
        }
      ]
    },
    {
      "cell_type": "code",
      "source": [
        "m_value = max(df['Sales'])\n",
        "print(m_value)\n",
        "print(np.where(df['Sales'] == m_value))"
      ],
      "metadata": {
        "colab": {
          "base_uri": "https://localhost:8080/"
        },
        "id": "iuan6-YjxmoQ",
        "outputId": "0fcea52c-eddf-444a-884d-1964c212cd87"
      },
      "execution_count": null,
      "outputs": [
        {
          "output_type": "stream",
          "name": "stdout",
          "text": [
            "27.0\n",
            "(array([175]),)\n"
          ]
        }
      ]
    },
    {
      "cell_type": "code",
      "source": [
        "print(df.iloc[np.where(df['Sales'] == m_value)])"
      ],
      "metadata": {
        "colab": {
          "base_uri": "https://localhost:8080/"
        },
        "id": "p_nC5O3tyzxC",
        "outputId": "20e45742-2dd3-40f2-c0d4-65bd9c3746d9"
      },
      "execution_count": null,
      "outputs": [
        {
          "output_type": "stream",
          "name": "stdout",
          "text": [
            "        TV  Radio  Newspaper  Sales\n",
            "175  276.9   48.9       41.8   27.0\n"
          ]
        }
      ]
    },
    {
      "cell_type": "code",
      "source": [
        "mean_value = np.mean(df['TV'])\n",
        "print(mean_value)"
      ],
      "metadata": {
        "colab": {
          "base_uri": "https://localhost:8080/"
        },
        "id": "3vZ_stJ7zNZk",
        "outputId": "99b291b9-a49f-40cf-a144-bbde3661bfeb"
      },
      "execution_count": null,
      "outputs": [
        {
          "output_type": "stream",
          "name": "stdout",
          "text": [
            "147.0425\n"
          ]
        }
      ]
    },
    {
      "cell_type": "markdown",
      "source": [],
      "metadata": {
        "id": "RXFiJ2Poxy0_"
      }
    },
    {
      "cell_type": "code",
      "source": [
        "count = np.array(df['Sales']) >= 20\n",
        "print(count.sum())"
      ],
      "metadata": {
        "colab": {
          "base_uri": "https://localhost:8080/"
        },
        "id": "fdxyG-HPzea6",
        "outputId": "86b78c01-39be-4cd1-c0a5-3b7cfdf5cba9"
      },
      "execution_count": null,
      "outputs": [
        {
          "output_type": "stream",
          "name": "stdout",
          "text": [
            "40\n"
          ]
        }
      ]
    },
    {
      "cell_type": "code",
      "source": [
        "\n",
        "radio_values = df['Radio'][df['Sales'] >= 15]\n",
        "mean_radio_value = np.mean(radio_values)\n",
        "print(mean_radio_value)\n"
      ],
      "metadata": {
        "colab": {
          "base_uri": "https://localhost:8080/"
        },
        "id": "vvLY6hVd2q_9",
        "outputId": "9a57d0e2-be6f-48f2-bb43-da1e4dfda722"
      },
      "execution_count": null,
      "outputs": [
        {
          "output_type": "stream",
          "name": "stdout",
          "text": [
            "26.22293577981651\n"
          ]
        }
      ]
    },
    {
      "cell_type": "code",
      "source": [
        "sum_sales = df['Sales'][df['Newspaper']> df['Newspaper'].mean()].sum()\n",
        "print(sum_sales)"
      ],
      "metadata": {
        "colab": {
          "base_uri": "https://localhost:8080/"
        },
        "id": "fH9FO9DB3DK4",
        "outputId": "18ff22f8-b3cd-43a6-a0df-a3e03e9c61e1"
      },
      "execution_count": null,
      "outputs": [
        {
          "output_type": "stream",
          "name": "stdout",
          "text": [
            "1405.1\n"
          ]
        }
      ]
    },
    {
      "cell_type": "code",
      "source": [
        "\n",
        "\n",
        "# Assuming df is already defined and has a 'Sales' column\n",
        "mean = np.mean(df['Sales'])\n",
        "\n",
        "evaluate = []\n",
        "for i in range(len(df['Sales'])):\n",
        "    if df['Sales'][i] > mean:\n",
        "        evaluate.append('Good')\n",
        "    elif df['Sales'][i] < mean:\n",
        "        evaluate.append('Bad')\n",
        "    else:\n",
        "        evaluate.append('Average')\n",
        "\n",
        "print(evaluate[7:10])\n"
      ],
      "metadata": {
        "colab": {
          "base_uri": "https://localhost:8080/"
        },
        "id": "SUJyxPTE5YFa",
        "outputId": "d2e80244-4aef-4174-f1f6-fac836bbbe85"
      },
      "execution_count": null,
      "outputs": [
        {
          "output_type": "stream",
          "name": "stdout",
          "text": [
            "['Bad', 'Bad', 'Good']\n"
          ]
        }
      ]
    },
    {
      "cell_type": "code",
      "source": [
        "diff = np.abs(df['Sales']-mean)\n",
        "closest_index = np.argmin(diff)\n",
        "print(closest_index)\n",
        "c_value = df['Sales'][closest_index]\n",
        "print(c_value)\n",
        "evaluate1 = []\n",
        "for i in range(len(df['Sales'])):\n",
        "    if df['Sales'][i] > c_value:\n",
        "        evaluate1.append('Good')\n",
        "    elif df['Sales'][i] < c_value:\n",
        "        evaluate1.append('Bad')\n",
        "    else:\n",
        "        evaluate1.append('Average')\n",
        "\n",
        "print(evaluate1[7:10])"
      ],
      "metadata": {
        "colab": {
          "base_uri": "https://localhost:8080/"
        },
        "id": "TXgJohhqAbvr",
        "outputId": "f84a5d42-50ae-4366-9de6-0a5a4a793f13"
      },
      "execution_count": null,
      "outputs": [
        {
          "output_type": "stream",
          "name": "stdout",
          "text": [
            "123\n",
            "15.2\n",
            "['Bad', 'Bad', 'Good']\n"
          ]
        }
      ]
    }
  ]
}